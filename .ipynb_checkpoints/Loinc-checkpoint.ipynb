{
 "cells": [
  {
   "cell_type": "markdown",
   "id": "fc860926",
   "metadata": {},
   "source": [
    "# Loinc \n",
    "\n",
    "### Getting a notion of the data"
   ]
  },
  {
   "cell_type": "code",
   "execution_count": 82,
   "id": "e284edc7",
   "metadata": {},
   "outputs": [],
   "source": [
    "#Imports \n",
    "import pandas as pd \n",
    "\n",
    "#https://medium.com/@nikhilbd/pointwise-vs-pairwise-vs-listwise-learning-to-rank-80a8fe8fadfd"
   ]
  },
  {
   "cell_type": "code",
   "execution_count": 83,
   "id": "fd0c8957",
   "metadata": {},
   "outputs": [
    {
     "name": "stderr",
     "output_type": "stream",
     "text": [
      "C:\\tools\\Anaconda3\\lib\\site-packages\\IPython\\core\\interactiveshell.py:3165: DtypeWarning: Columns (10) have mixed types.Specify dtype option on import or set low_memory=False.\n",
      "  has_raised = await self.run_ast_nodes(code_ast.body, cell_name,\n"
     ]
    }
   ],
   "source": [
    "#https://catalog.data.gov/dataset/u-s-chronic-disease-indicators-cdi\n",
    "df_us_nhs = pd.read_csv(\"./U.S._Chronic_Disease_Indicators__CDI_.csv\")"
   ]
  },
  {
   "cell_type": "code",
   "execution_count": 84,
   "id": "f32a695e",
   "metadata": {},
   "outputs": [
    {
     "name": "stdout",
     "output_type": "stream",
     "text": [
      "(1082328, 34)           YearStart       YearEnd  Response  DataValueAlt  LowConfidenceLimit  \\\n",
      "count  1.082328e+06  1.082328e+06       0.0  7.271920e+05       617251.000000   \n",
      "mean   2.014678e+03  2.015196e+03       NaN  1.028911e+03           51.310313   \n",
      "std    3.082694e+00  2.738999e+00       NaN  1.927071e+04           88.630405   \n",
      "min    2.001000e+03  2.001000e+03       NaN  0.000000e+00            0.000000   \n",
      "25%    2.012000e+03  2.013000e+03       NaN  1.720000e+01           11.770000   \n",
      "50%    2.015000e+03  2.015000e+03       NaN  4.100000e+01           29.200000   \n",
      "75%    2.017000e+03  2.017000e+03       NaN  7.660000e+01           57.100000   \n",
      "max    2.021000e+03  2.021000e+03       NaN  2.925456e+06         1615.700000   \n",
      "\n",
      "       HighConfidenceLimit  StratificationCategory2  Stratification2  \\\n",
      "count        617251.000000                      0.0              0.0   \n",
      "mean             63.214102                      NaN              NaN   \n",
      "std              99.481310                      NaN              NaN   \n",
      "min               0.000000                      NaN              NaN   \n",
      "25%              17.500000                      NaN              NaN   \n",
      "50%              42.000000                      NaN              NaN   \n",
      "75%              71.735000                      NaN              NaN   \n",
      "max            2137.000000                      NaN              NaN   \n",
      "\n",
      "       StratificationCategory3  Stratification3  ResponseID    LocationID  \\\n",
      "count                      0.0              0.0         0.0  1.082328e+06   \n",
      "mean                       NaN              NaN         NaN  3.080346e+01   \n",
      "std                        NaN              NaN         NaN  1.752053e+01   \n",
      "min                        NaN              NaN         NaN  1.000000e+00   \n",
      "25%                        NaN              NaN         NaN  1.700000e+01   \n",
      "50%                        NaN              NaN         NaN  3.000000e+01   \n",
      "75%                        NaN              NaN         NaN  4.500000e+01   \n",
      "max                        NaN              NaN         NaN  7.800000e+01   \n",
      "\n",
      "       StratificationCategoryID2  StratificationID2  \\\n",
      "count                        0.0                0.0   \n",
      "mean                         NaN                NaN   \n",
      "std                          NaN                NaN   \n",
      "min                          NaN                NaN   \n",
      "25%                          NaN                NaN   \n",
      "50%                          NaN                NaN   \n",
      "75%                          NaN                NaN   \n",
      "max                          NaN                NaN   \n",
      "\n",
      "       StratificationCategoryID3  StratificationID3  \n",
      "count                        0.0                0.0  \n",
      "mean                         NaN                NaN  \n",
      "std                          NaN                NaN  \n",
      "min                          NaN                NaN  \n",
      "25%                          NaN                NaN  \n",
      "50%                          NaN                NaN  \n",
      "75%                          NaN                NaN  \n",
      "max                          NaN                NaN  \n"
     ]
    }
   ],
   "source": [
    "print(df_us_nhs.shape,df_us_nhs.describe())\n",
    "#Conclusion as in the warning => mixed datatypes"
   ]
  },
  {
   "cell_type": "code",
   "execution_count": 85,
   "id": "465f2250",
   "metadata": {},
   "outputs": [
    {
     "name": "stdout",
     "output_type": "stream",
     "text": [
      "Response                     1082328\n",
      "DataValueUnit                 139390\n",
      "DataValue                     353093\n",
      "DataValueAlt                  355136\n",
      "DataValueFootnoteSymbol       715575\n",
      "DatavalueFootnote             715575\n",
      "LowConfidenceLimit            465077\n",
      "HighConfidenceLimit           465077\n",
      "StratificationCategory2      1082328\n",
      "Stratification2              1082328\n",
      "StratificationCategory3      1082328\n",
      "Stratification3              1082328\n",
      "GeoLocation                     9196\n",
      "ResponseID                   1082328\n",
      "StratificationCategoryID2    1082328\n",
      "StratificationID2            1082328\n",
      "StratificationCategoryID3    1082328\n",
      "StratificationID3            1082328\n",
      "dtype: int64\n"
     ]
    },
    {
     "data": {
      "text/plain": [
       "(1082328, 24)"
      ]
     },
     "execution_count": 85,
     "metadata": {},
     "output_type": "execute_result"
    }
   ],
   "source": [
    "#print(df_us_nhs.columns)\n",
    "\n",
    "#print(df_us_nhs[[\"Topic\",\"Response\",\"DataValue\",\"ResponseID\"]])\n",
    "#Columns without value (\"NaN\")\n",
    "#print(df_us_nhs.isna().any()[lambda x: x])\n",
    "\n",
    "#Conclusion => Search for columns to omit \n",
    "print(pd.isna(df_us_nhs).sum()[pd.isna(df_us_nhs).sum() > 0])\n",
    "\n",
    "#Highest Value in several columns = 1082328\n",
    "#len(df_us_nhs)-1082328 \n",
    "# => proof some of the columns are just filled with NaN => we omit these columns since they dont \n",
    "#provide any additional value\n",
    "\n",
    "df_us_nhs = df_us_nhs.drop([\"Response\",\"StratificationCategory2\",\"Stratification2\",\"StratificationCategory3\",\"Stratification3\",\n",
    "                \"ResponseID\",\"StratificationCategoryID2\",\"StratificationID2\",\"StratificationCategoryID3\",\"StratificationID3\"],\n",
    "              axis = 1)\n",
    "\n",
    "df_us_nhs.shape\n",
    "#Reduced size from 34 to 24"
   ]
  },
  {
   "cell_type": "code",
   "execution_count": 73,
   "id": "3068b8e0",
   "metadata": {},
   "outputs": [
    {
     "name": "stdout",
     "output_type": "stream",
     "text": [
      "DataValueUnit 139390 12.878720683563577\n",
      "DataValue 353093 32.62347458441434\n",
      "DataValueAlt 355136 32.81223436887893\n",
      "DataValueFootnoteSymbol 715575 66.11443111515179\n",
      "DatavalueFootnote 715575 66.11443111515179\n",
      "LowConfidenceLimit 465077 42.97006083183656\n",
      "HighConfidenceLimit 465077 42.97006083183656\n",
      "GeoLocation 9196 0.8496500136742281\n"
     ]
    }
   ],
   "source": [
    "dict_mis_val = pd.isna(df_us_nhs).sum()[pd.isna(df_us_nhs).sum() > 0]\n",
    "for ele in dict_mis_val.keys():\n",
    "    print(ele, dict_mis_val[ele], (dict_mis_val[ele]/len(df_us_nhs))*100)\n",
    "    \n",
    "#We also drop this columns since their values are to high to impute"
   ]
  },
  {
   "cell_type": "code",
   "execution_count": 97,
   "id": "890dfad6",
   "metadata": {},
   "outputs": [
    {
     "name": "stdout",
     "output_type": "stream",
     "text": [
      "Index(['YearStart', 'YearEnd', 'LocationAbbr', 'LocationDesc', 'DataSource',\n",
      "       'Topic', 'Question', 'DataValueUnit', 'DataValueType', 'DataValue',\n",
      "       'DataValueAlt', 'DataValueFootnoteSymbol', 'DatavalueFootnote',\n",
      "       'LowConfidenceLimit', 'HighConfidenceLimit', 'StratificationCategory1',\n",
      "       'Stratification1', 'GeoLocation', 'LocationID', 'TopicID', 'QuestionID',\n",
      "       'DataValueTypeID', 'StratificationCategoryID1', 'StratificationID1'],\n",
      "      dtype='object')\n",
      "{nan, '$', 'cases per 10,000', 'cases per 1,000', 'cases per 100,000', 'per 100,000 residents', 'Number', 'Years', 'per 100,000', 'pack sales per capita', 'cases per 1,000,000', 'gallons', '%'}\n",
      "YearStart                                                                 2020\n",
      "YearEnd                                                                   2020\n",
      "LocationAbbr                                                                WI\n",
      "LocationDesc                                                         Wisconsin\n",
      "DataSource                                                               BRFSS\n",
      "Topic                                                                 Diabetes\n",
      "Question                     Prevalence of diagnosed diabetes among adults ...\n",
      "DataValueUnit                                                                %\n",
      "DataValueType                                          Age-adjusted Prevalence\n",
      "DataValue                                                                  NaN\n",
      "DataValueAlt                                                               NaN\n",
      "DataValueFootnoteSymbol                                                   ****\n",
      "DatavalueFootnote            Sample size of denominator and/or age group fo...\n",
      "LowConfidenceLimit                                                         NaN\n",
      "HighConfidenceLimit                                                        NaN\n",
      "StratificationCategory1                                         Race/Ethnicity\n",
      "Stratification1                                      Multiracial, non-Hispanic\n",
      "GeoLocation                       POINT (-89.81637074199966 44.39319117400049)\n",
      "LocationID                                                                  55\n",
      "TopicID                                                                    DIA\n",
      "QuestionID                                                              DIA2_1\n",
      "DataValueTypeID                                                     AGEADJPREV\n",
      "StratificationCategoryID1                                                 RACE\n",
      "StratificationID1                                                          MRC\n",
      "Name: 1082327, dtype: object\n"
     ]
    }
   ],
   "source": [
    "print(df_us_nhs.keys())\n",
    "\n",
    "print(set(df_us_nhs[\"DataValueUnit\"]))\n",
    "\n",
    "#Since we want to compare lab tests we omit values that are unrelated to actual testing and \n",
    "\n",
    "df_us_nhs[df_us_nhs[\"DataValueUnit\"] == \"%\"]\n",
    "\n",
    "print(df_us_nhs.iloc[1082327])"
   ]
  },
  {
   "cell_type": "markdown",
   "id": "b4377f3a",
   "metadata": {},
   "source": [
    "## Exploring Loinc Dataset "
   ]
  },
  {
   "cell_type": "code",
   "execution_count": 69,
   "id": "bc2397ed",
   "metadata": {},
   "outputs": [
    {
     "name": "stderr",
     "output_type": "stream",
     "text": [
      "C:\\tools\\Anaconda3\\lib\\site-packages\\IPython\\core\\interactiveshell.py:3165: DtypeWarning: Columns (14) have mixed types.Specify dtype option on import or set low_memory=False.\n",
      "  has_raised = await self.run_ast_nodes(code_ast.body, cell_name,\n"
     ]
    }
   ],
   "source": [
    "df_loinc = pd.read_csv(\"./Loinc_2.72/LoincTableCore/LoincTableCore.csv\")"
   ]
  },
  {
   "cell_type": "code",
   "execution_count": 72,
   "id": "9a61c2e4",
   "metadata": {},
   "outputs": [
    {
     "name": "stdout",
     "output_type": "stream",
     "text": [
      "(98268, 15) Index(['LOINC_NUM', 'COMPONENT', 'PROPERTY', 'TIME_ASPCT', 'SYSTEM',\n",
      "       'SCALE_TYP', 'METHOD_TYP', 'CLASS', 'CLASSTYPE', 'LONG_COMMON_NAME',\n",
      "       'SHORTNAME', 'EXTERNAL_COPYRIGHT_NOTICE', 'STATUS',\n",
      "       'VersionFirstReleased', 'VersionLastChanged'],\n",
      "      dtype='object')\n"
     ]
    }
   ],
   "source": [
    "print(df_loinc.shape, df_loinc.columns)"
   ]
  }
 ],
 "metadata": {
  "kernelspec": {
   "display_name": "Python 3",
   "language": "python",
   "name": "python3"
  },
  "language_info": {
   "codemirror_mode": {
    "name": "ipython",
    "version": 3
   },
   "file_extension": ".py",
   "mimetype": "text/x-python",
   "name": "python",
   "nbconvert_exporter": "python",
   "pygments_lexer": "ipython3",
   "version": "3.8.8"
  }
 },
 "nbformat": 4,
 "nbformat_minor": 5
}
